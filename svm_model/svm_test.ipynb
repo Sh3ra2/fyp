{
 "cells": [
  {
   "cell_type": "code",
   "execution_count": 2,
   "id": "59efefcc",
   "metadata": {},
   "outputs": [],
   "source": [
    "import os\n",
    "import cv2\n",
    "import numpy as np\n",
    "import pandas as pd\n",
    "from tqdm import tqdm\n",
    "from skimage.feature import hog\n",
    "from sklearn.preprocessing import LabelEncoder, StandardScaler\n",
    "from sklearn.model_selection import train_test_split\n",
    "from sklearn.metrics import accuracy_score, classification_report\n",
    "from sklearn.svm import SVC\n",
    "import joblib\n",
    "import json\n",
    "import random\n",
    "from PIL import Image, ImageDraw\n",
    "import matplotlib.pyplot as plt\n",
    "import matplotlib.patches as patches\n",
    "import seaborn as sns\n",
    "\n",
    "from sklearn.model_selection import train_test_split\n",
    "from sklearn.svm import SVC\n",
    "from sklearn.ensemble import RandomForestClassifier\n",
    "from sklearn.preprocessing import LabelEncoder, label_binarize\n",
    "\n",
    "from sklearn.metrics import classification_report, accuracy_score, precision_recall_fscore_support, roc_curve, auc\n",
    "from sklearn.model_selection import cross_val_score, StratifiedKFold\n",
    "from torchvision.transforms import ToPILImage\n",
    "from skimage.feature import hog"
   ]
  },
  {
   "cell_type": "code",
   "execution_count": 5,
   "id": "01d51536",
   "metadata": {},
   "outputs": [
    {
     "name": "stdout",
     "output_type": "stream",
     "text": [
      "Root Path: ..\\dataset\\malaria\n",
      "Train JSON Path: ..\\dataset\\malaria\\training.json\n",
      "Test JSON Path: ..\\dataset\\malaria\\test.json\n",
      "Image Path: ..\\dataset\\malaria\\images\n"
     ]
    }
   ],
   "source": [
    "# Paths\n",
    "root_path = os.path.join('..', 'dataset', 'malaria')\n",
    "train_json_path = os.path.join(root_path, 'training.json')\n",
    "test_json_path = os.path.join(root_path, 'test.json')\n",
    "image_path = os.path.join(root_path, 'images')\n",
    "print(\"Root Path:\", root_path)\n",
    "print(\"Train JSON Path:\", train_json_path)\n",
    "print(\"Test JSON Path:\", test_json_path)\n",
    "print(\"Image Path:\", image_path)"
   ]
  },
  {
   "cell_type": "code",
   "execution_count": 6,
   "id": "738e3d85",
   "metadata": {},
   "outputs": [],
   "source": [
    "# paths for individual images\n",
    "images_by_class = os.path.join(root_path, 'resized_images_by_classes')\n",
    "rbcs_path = os.path.join(images_by_class, 'red_blood_cell')"
   ]
  },
  {
   "cell_type": "code",
   "execution_count": 19,
   "id": "9de7fd7a",
   "metadata": {},
   "outputs": [
    {
     "name": "stdout",
     "output_type": "stream",
     "text": [
      "Detected classes: ['difficult', 'gametocyte', 'leukocyte', 'red_blood_cell', 'ring', 'schizont', 'trophozoite']\n",
      "                                          image_path      label\n",
      "0  ..\\dataset\\malaria\\resized_images_by_classes\\d...  difficult\n",
      "1  ..\\dataset\\malaria\\resized_images_by_classes\\d...  difficult\n",
      "2  ..\\dataset\\malaria\\resized_images_by_classes\\d...  difficult\n",
      "3  ..\\dataset\\malaria\\resized_images_by_classes\\d...  difficult\n",
      "4  ..\\dataset\\malaria\\resized_images_by_classes\\d...  difficult \n",
      "Total images: 80111\n",
      "Class distribution:\n",
      " label\n",
      "red_blood_cell    77418\n",
      "trophozoite        1473\n",
      "difficult           441\n",
      "ring                353\n",
      "schizont            179\n",
      "gametocyte          144\n",
      "leukocyte           103\n",
      "Name: count, dtype: int64\n"
     ]
    }
   ],
   "source": [
    "# Dynamically detect classes from subdirectories\n",
    "classes = [d for d in os.listdir(images_by_class) if os.path.isdir(os.path.join(images_by_class, d))]\n",
    "print(\"Detected classes:\", classes)\n",
    "\n",
    "# Collect image paths and labels\n",
    "new_data_for_df = []\n",
    "for dirpath, dirnames, filenames in os.walk(images_by_class):\n",
    "    label = os.path.basename(dirpath)\n",
    "    if label in classes:  # only keep valid class dirs\n",
    "        for filename in filenames:\n",
    "            if filename.lower().endswith(('.png', '.jpg', '.jpeg')):  # safeguard\n",
    "                full_image_path = os.path.join(dirpath, filename)\n",
    "                new_data_for_df.append({'image_path': full_image_path, 'label': label})\n",
    "\n",
    "# Create DataFrame\n",
    "df = pd.DataFrame(new_data_for_df)\n",
    "print(df.head(), \"\\nTotal images:\", len(df))\n",
    "print(\"Class distribution:\\n\", df['label'].value_counts())\n"
   ]
  },
  {
   "cell_type": "code",
   "execution_count": 7,
   "id": "fd1a8a8a",
   "metadata": {},
   "outputs": [],
   "source": [
    "# --- Feature extractors ---\n",
    "def extract_color_histogram(image_path, bins=(8, 8, 8)):\n",
    "    image = cv2.imread(image_path)\n",
    "    hsv = cv2.cvtColor(image, cv2.COLOR_BGR2HSV)\n",
    "    hist = cv2.calcHist([hsv], [0, 1, 2], None, bins, [0, 180, 0, 256, 0, 256])\n",
    "    cv2.normalize(hist, hist)\n",
    "    return hist.flatten()\n",
    "\n",
    "def extract_hog_features(image_path, pixels_per_cell=(16, 16), cells_per_block=(2, 2)):\n",
    "    image = cv2.imread(image_path)\n",
    "    gray_image = cv2.cvtColor(image, cv2.COLOR_BGR2GRAY)\n",
    "    resized_image = cv2.resize(gray_image, (128, 128))\n",
    "    features = hog(resized_image, pixels_per_cell=pixels_per_cell,\n",
    "                   cells_per_block=cells_per_block, visualize=False)\n",
    "    return features"
   ]
  },
  {
   "cell_type": "code",
   "execution_count": 8,
   "id": "a300d04c",
   "metadata": {},
   "outputs": [],
   "source": [
    "# --- Choose one ---\n",
    "feature_extractor = extract_hog_features\n",
    "\n",
    "features_list, labels_list = [], []"
   ]
  },
  {
   "cell_type": "code",
   "execution_count": null,
   "id": "62bd9c3e",
   "metadata": {},
   "outputs": [
    {
     "name": "stderr",
     "output_type": "stream",
     "text": [
      "  0%|          | 0/80111 [00:00<?, ?it/s]"
     ]
    },
    {
     "name": "stderr",
     "output_type": "stream",
     "text": [
      "100%|██████████| 80111/80111 [28:46<00:00, 46.39it/s]  \n"
     ]
    },
    {
     "name": "stdout",
     "output_type": "stream",
     "text": [
      "\n",
      "--- Training SVM ---\n",
      "\n",
      "--- SVM Evaluation ---\n",
      "Accuracy: 0.9733\n",
      "                precision    recall  f1-score   support\n",
      "\n",
      "     difficult       0.32      0.16      0.22       110\n",
      "    gametocyte       0.00      0.00      0.00        36\n",
      "     leukocyte       0.82      0.54      0.65        26\n",
      "red_blood_cell       0.99      0.99      0.99     19355\n",
      "          ring       0.62      0.18      0.28        88\n",
      "      schizont       0.33      0.02      0.04        45\n",
      "   trophozoite       0.51      0.64      0.57       368\n",
      "\n",
      "      accuracy                           0.97     20028\n",
      "     macro avg       0.51      0.36      0.39     20028\n",
      "  weighted avg       0.97      0.97      0.97     20028\n",
      "\n"
     ]
    },
    {
     "name": "stderr",
     "output_type": "stream",
     "text": [
      "c:\\Users\\shera\\miniconda3\\envs\\fyp2\\Lib\\site-packages\\sklearn\\metrics\\_classification.py:1731: UndefinedMetricWarning: Precision is ill-defined and being set to 0.0 in labels with no predicted samples. Use `zero_division` parameter to control this behavior.\n",
      "  _warn_prf(average, modifier, f\"{metric.capitalize()} is\", result.shape[0])\n",
      "c:\\Users\\shera\\miniconda3\\envs\\fyp2\\Lib\\site-packages\\sklearn\\metrics\\_classification.py:1731: UndefinedMetricWarning: Precision is ill-defined and being set to 0.0 in labels with no predicted samples. Use `zero_division` parameter to control this behavior.\n",
      "  _warn_prf(average, modifier, f\"{metric.capitalize()} is\", result.shape[0])\n",
      "c:\\Users\\shera\\miniconda3\\envs\\fyp2\\Lib\\site-packages\\sklearn\\metrics\\_classification.py:1731: UndefinedMetricWarning: Precision is ill-defined and being set to 0.0 in labels with no predicted samples. Use `zero_division` parameter to control this behavior.\n",
      "  _warn_prf(average, modifier, f\"{metric.capitalize()} is\", result.shape[0])\n"
     ]
    }
   ],
   "source": [
    "\n",
    "for _, row in tqdm(df.iterrows(), total=df.shape[0]):\n",
    "    # print(\"row is:\", row)\n",
    "    current_path = os.path.normpath(row['image_path'])\n",
    "    # print(\"current path is:\", current_path)\n",
    "    if not os.path.isfile(current_path):  # safety\n",
    "        continue\n",
    "    label = row['label']\n",
    "    features = feature_extractor(current_path)\n",
    "    features_list.append(features)\n",
    "    labels_list.append(label)\n",
    "\n",
    "X = np.array(features_list)\n",
    "y = np.array(labels_list)\n",
    "\n",
    "# Encode labels\n",
    "le = LabelEncoder()\n",
    "y_encoded = le.fit_transform(y)\n",
    "\n",
    "# Train-test split\n",
    "X_train, X_test, y_train, y_test = train_test_split(\n",
    "    X, y_encoded, test_size=0.25, random_state=42, stratify=y_encoded\n",
    ")\n",
    "\n",
    "# --- SVM ---\n",
    "print(\"\\n--- Training SVM ---\")\n",
    "scaler = StandardScaler()\n",
    "X_train_scaled = scaler.fit_transform(X_train)\n",
    "X_test_scaled = scaler.transform(X_test)\n",
    "svm_model = SVC(kernel='rbf', C=1.0, random_state=42, class_weight='balanced', probability=True)\n",
    "svm_model.fit(X_train_scaled, y_train)\n",
    "svm_preds = svm_model.predict(X_test_scaled)\n",
    "print(\"\\n--- SVM Evaluation ---\")\n",
    "print(f\"Accuracy: {accuracy_score(y_test, svm_preds):.4f}\")\n",
    "print(classification_report(y_test, svm_preds, target_names=le.classes_))\n"
   ]
  },
  {
   "cell_type": "code",
   "execution_count": null,
   "id": "3412a653",
   "metadata": {},
   "outputs": [
    {
     "data": {
      "text/plain": [
       "['label_encoder.pkl']"
      ]
     },
     "execution_count": 24,
     "metadata": {},
     "output_type": "execute_result"
    }
   ],
   "source": [
    "# Save model + scaler + label encoder\n",
    "joblib.dump(svm_model, \"svm_model.pkl\")\n",
    "joblib.dump(scaler, \"scaler.pkl\")\n",
    "joblib.dump(le, \"label_encoder.pkl\")\n"
   ]
  },
  {
   "cell_type": "code",
   "execution_count": 14,
   "id": "89f31e4e",
   "metadata": {},
   "outputs": [
    {
     "name": "stdout",
     "output_type": "stream",
     "text": [
      "..\\dataset\\malaria\n",
      "Predicted class: gametocyte\n"
     ]
    }
   ],
   "source": [
    "import joblib\n",
    "\n",
    "# Load saved objects\n",
    "svm_model = joblib.load(\"svm_model.pkl\")\n",
    "scaler = joblib.load(\"scaler.pkl\")\n",
    "le = joblib.load(\"label_encoder.pkl\")\n",
    "\n",
    "# Example: predicting on new images\n",
    "new_im = os.path.join(image_path, '0a7bfa8a-ee52-4f7a-b9c5-2919ecfa93ef.png')\n",
    "print(root_path)\n",
    "new_im = os.path.join(root_path,'resized_images_by_classes', 'gametocyte', '0d3c2521-da55-4df5-bf06-56b3bd4fb2fc_cell_29_gametocyte.png')\n",
    "features = feature_extractor(new_im)\n",
    "features_scaled = scaler.transform([features])\n",
    "pred = svm_model.predict(features_scaled)\n",
    "pred_label = le.inverse_transform(pred)\n",
    "\n",
    "print(\"Predicted class:\", pred_label[0])\n"
   ]
  },
  {
   "cell_type": "code",
   "execution_count": null,
   "id": "edc185de",
   "metadata": {},
   "outputs": [],
   "source": [
    "import os\n",
    "import cv2\n",
    "import numpy as np\n",
    "from skimage.feature import hog\n",
    "from tqdm import tqdm\n",
    "import pandas as pd\n",
    "\n",
    "# Assume df is a pre-loaded DataFrame with 'image_path' and 'label' columns\n",
    "# df = pd.read_csv('your_data.csv') \n",
    "\n",
    "def extract_color_histogram(image_path, bins=(8, 8, 8)):\n",
    "    # ... (function body as you provided) ...\n",
    "    image = cv2.imread(image_path)\n",
    "    hsv = cv2.cvtColor(image, cv2.COLOR_BGR2HSV)\n",
    "    hist = cv2.calcHist([hsv], [0, 1, 2], None, bins, [0, 180, 0, 256, 0, 256])\n",
    "    cv2.normalize(hist, hist)\n",
    "    return hist.flatten()\n",
    "\n",
    "def extract_hog_features(image_path, pixels_per_cell=(16, 16), cells_per_block=(2, 2)):\n",
    "    # ... (function body as you provided) ...\n",
    "    image = cv2.imread(image_path)\n",
    "    gray_image = cv2.cvtColor(image, cv2.COLOR_BGR2GRAY)\n",
    "    resized_image = cv2.resize(gray_image, (128, 128))\n",
    "    features = hog(resized_image, pixels_per_cell=pixels_per_cell,\n",
    "                   cells_per_block=cells_per_block, visualize=False)\n",
    "    return features\n",
    "\n",
    "# Choose a feature extractor\n",
    "feature_extractor = extract_hog_features\n",
    "\n",
    "features_list = []\n",
    "labels_list = []\n",
    "\n",
    "# Loop over the image paths in the DataFrame\n",
    "for index, row in tqdm(df.iterrows(), total=df.shape[0]):\n",
    "    current_path = os.path.normpath(row['image_path']) # Use 'image_path' or the correct column name\n",
    "    if os.path.isdir(current_path):\n",
    "        continue\n",
    "    label = row['label']\n",
    "    features = feature_extractor(current_path)\n",
    "    features_list.append(features)\n",
    "    labels_list.append(label)\n",
    "\n",
    "# Convert lists to NumPy arrays\n",
    "X = np.array(features_list)\n",
    "y = np.array(labels_list)"
   ]
  },
  {
   "cell_type": "code",
   "execution_count": 10,
   "id": "7c1f5118",
   "metadata": {},
   "outputs": [
    {
     "ename": "NameError",
     "evalue": "name 'X' is not defined",
     "output_type": "error",
     "traceback": [
      "\u001b[31m---------------------------------------------------------------------------\u001b[39m",
      "\u001b[31mNameError\u001b[39m                                 Traceback (most recent call last)",
      "\u001b[36mCell\u001b[39m\u001b[36m \u001b[39m\u001b[32mIn[10]\u001b[39m\u001b[32m, line 4\u001b[39m\n\u001b[32m      1\u001b[39m \u001b[38;5;28;01mfrom\u001b[39;00m\u001b[38;5;250m \u001b[39m\u001b[34;01msklearn\u001b[39;00m\u001b[34;01m.\u001b[39;00m\u001b[34;01mmodel_selection\u001b[39;00m\u001b[38;5;250m \u001b[39m\u001b[38;5;28;01mimport\u001b[39;00m train_test_split\n\u001b[32m      3\u001b[39m \u001b[38;5;66;03m# Split data into training and testing sets\u001b[39;00m\n\u001b[32m----> \u001b[39m\u001b[32m4\u001b[39m X_train, X_test, y_train, y_test = train_test_split(\u001b[43mX\u001b[49m, y, test_size=\u001b[32m0.2\u001b[39m, random_state=\u001b[32m42\u001b[39m)\n\u001b[32m      7\u001b[39m \u001b[38;5;28;01mfrom\u001b[39;00m\u001b[38;5;250m \u001b[39m\u001b[34;01msklearn\u001b[39;00m\u001b[34;01m.\u001b[39;00m\u001b[34;01msvm\u001b[39;00m\u001b[38;5;250m \u001b[39m\u001b[38;5;28;01mimport\u001b[39;00m SVC\n\u001b[32m      9\u001b[39m \u001b[38;5;66;03m# Create an SVM classifier\u001b[39;00m\n",
      "\u001b[31mNameError\u001b[39m: name 'X' is not defined"
     ]
    }
   ],
   "source": [
    "from sklearn.model_selection import train_test_split\n",
    "\n",
    "# Split data into training and testing sets\n",
    "X_train, X_test, y_train, y_test = train_test_split(X, y, test_size=0.2, random_state=42)\n",
    "\n",
    "\n",
    "from sklearn.svm import SVC\n",
    "\n",
    "# Create an SVM classifier\n",
    "svm_model = SVC(kernel='linear') # 'linear' is a good starting point\n",
    "\n",
    "# Train the SVM model on the training data\n",
    "svm_model.fit(X_train, y_train)\n",
    "\n",
    "from sklearn.metrics import accuracy_score, classification_report\n",
    "\n",
    "# Predict the labels on the test set\n",
    "y_pred = svm_model.predict(X_test)\n",
    "\n",
    "# Calculate accuracy\n",
    "accuracy = accuracy_score(y_test, y_pred)\n",
    "print(f'Model Accuracy: {accuracy * 100:.2f}%')\n",
    "\n",
    "# Print a full classification report\n",
    "print(classification_report(y_test, y_pred))\n"
   ]
  },
  {
   "cell_type": "code",
   "execution_count": null,
   "id": "649da0ee",
   "metadata": {},
   "outputs": [
    {
     "ename": "NameError",
     "evalue": "name 'LabelEncoder' is not defined",
     "output_type": "error",
     "traceback": [
      "\u001b[31m---------------------------------------------------------------------------\u001b[39m",
      "\u001b[31mNameError\u001b[39m                                 Traceback (most recent call last)",
      "\u001b[36mCell\u001b[39m\u001b[36m \u001b[39m\u001b[32mIn[1]\u001b[39m\u001b[32m, line 2\u001b[39m\n\u001b[32m      1\u001b[39m \u001b[38;5;66;03m# Step 1: Encode string labels into numbers\u001b[39;00m\n\u001b[32m----> \u001b[39m\u001b[32m2\u001b[39m le = \u001b[43mLabelEncoder\u001b[49m()\n\u001b[32m      3\u001b[39m y_encoded = le.fit_transform(y)\n\u001b[32m      5\u001b[39m \u001b[38;5;66;03m# Step 2: Split data into training and testing sets\u001b[39;00m\n",
      "\u001b[31mNameError\u001b[39m: name 'LabelEncoder' is not defined"
     ]
    }
   ],
   "source": [
    "# Step 1: Encode string labels into numbers\n",
    "le = LabelEncoder()\n",
    "y_encoded = le.fit_transform(y)\n",
    "\n",
    "# Step 2: Split data into training and testing sets\n",
    "X_train, X_test, y_train, y_test = train_test_split(X, y_encoded, test_size=0.25, random_state=42, stratify=y_encoded)\n",
    "\n",
    "# --- Support Vector Machine (SVM) ---\n",
    "print(\"\\n--- Training SVM ---\")\n",
    "# SVMs are scale-sensitive, so scaling is recommended\n",
    "from sklearn.preprocessing import StandardScaler\n",
    "scaler = StandardScaler()\n",
    "X_train_scaled = scaler.fit_transform(X_train)\n",
    "X_test_scaled = scaler.transform(X_test)\n",
    "\n",
    "svm_model = SVC(kernel='rbf', C=1.0, random_state=42, class_weight='balanced', probability=True)\n",
    "svm_model.fit(X_train_scaled, y_train)\n",
    "svm_preds = svm_model.predict(X_test_scaled)\n",
    "\n",
    "print(\"\\n--- SVM Evaluation ---\")\n",
    "print(f\"Accuracy: {accuracy_score(y_test, svm_preds):.4f}\")\n",
    "print(classification_report(y_test, svm_preds, target_names=le.classes_))"
   ]
  },
  {
   "cell_type": "code",
   "execution_count": null,
   "id": "a12763ab",
   "metadata": {},
   "outputs": [],
   "source": []
  },
  {
   "cell_type": "code",
   "execution_count": null,
   "id": "f522ad8e",
   "metadata": {},
   "outputs": [],
   "source": []
  },
  {
   "cell_type": "code",
   "execution_count": null,
   "id": "30a19844",
   "metadata": {},
   "outputs": [],
   "source": []
  }
 ],
 "metadata": {
  "kernelspec": {
   "display_name": "fyp2",
   "language": "python",
   "name": "python3"
  },
  "language_info": {
   "codemirror_mode": {
    "name": "ipython",
    "version": 3
   },
   "file_extension": ".py",
   "mimetype": "text/x-python",
   "name": "python",
   "nbconvert_exporter": "python",
   "pygments_lexer": "ipython3",
   "version": "3.12.3"
  }
 },
 "nbformat": 4,
 "nbformat_minor": 5
}
